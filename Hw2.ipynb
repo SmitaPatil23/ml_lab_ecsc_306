{
 "cells": [
  {
   "cell_type": "code",
   "execution_count": 1,
   "metadata": {},
   "outputs": [
    {
     "name": "stdout",
     "output_type": "stream",
     "text": [
      "270090\n"
     ]
    }
   ],
   "source": [
    "\n",
    "#(a-b)^3=a^3-b^3+3ab(a-b)\n",
    "import tensorflow as tf\n",
    "with tf.name_scope(\"FINAL\"): \n",
    "   \n",
    "    with tf.name_scope('A_cube'):\n",
    "        a = 100\n",
    "        b = tf.pow(a, 3)\n",
    "        \n",
    "    with tf.name_scope(\"B_cube\"):\n",
    "        c = 10\n",
    "        d = tf.pow(c, 3)\n",
    "  \n",
    "    with tf.name_scope(\"Acube_Bcube\"):\n",
    "        g = tf.subtract(b, d)\n",
    "    \n",
    "        \n",
    "    with tf.name_scope(\"3AB\"):  \n",
    "        i = tf.multiply(3,tf.multiply(a,c))\n",
    "    with tf.name_scope(\"A_B\"):\n",
    "        g = tf.subtract(a,c)\n",
    "        \n",
    "    with tf.name_scope(\"3AB_A_B\"):    \n",
    "        j = tf.multiply(i,g) \n",
    "        \n",
    "    \n",
    "    with tf.name_scope(\"Ans\"):    \n",
    "        l = tf.add(g,j)\n",
    "        \n",
    "    \n",
    "\n",
    "with tf.Session() as sess:\n",
    "    writer = tf.summary.FileWriter(\"/tmp/tboard/output2\", sess.graph)\n",
    "    print(sess.run(l))\n",
    "    writer.close()"
   ]
  },
  {
   "cell_type": "code",
   "execution_count": null,
   "metadata": {
    "collapsed": true
   },
   "outputs": [],
   "source": []
  },
  {
   "cell_type": "code",
   "execution_count": null,
   "metadata": {
    "collapsed": true
   },
   "outputs": [],
   "source": []
  }
 ],
 "metadata": {
  "kernelspec": {
   "display_name": "Python 3",
   "language": "python",
   "name": "python3"
  },
  "language_info": {
   "codemirror_mode": {
    "name": "ipython",
    "version": 3
   },
   "file_extension": ".py",
   "mimetype": "text/x-python",
   "name": "python",
   "nbconvert_exporter": "python",
   "pygments_lexer": "ipython3",
   "version": "3.6.1"
  }
 },
 "nbformat": 4,
 "nbformat_minor": 2
}
