{
 "cells": [
  {
   "cell_type": "code",
   "execution_count": 1,
   "metadata": {},
   "outputs": [
    {
     "name": "stdout",
     "output_type": "stream",
     "text": [
      "64\n"
     ]
    }
   ],
   "source": [
    "#(a+b)^2=a^2+b^2+2ab\n",
    "\n",
    "import tensorflow as tf\n",
    "with tf.name_scope(\"Final\"): \n",
    "   \n",
    "    with tf.name_scope('A_sq'):\n",
    "        a = 6\n",
    "        b = tf.pow(a, 2)\n",
    "        \n",
    "    with tf.name_scope(\"B_sq\"):\n",
    "        c = 2\n",
    "        d = tf.pow(c, 2)\n",
    "    with tf.name_scope(\"Asq_bsq\"):\n",
    "        g = tf.add(b, d)\n",
    "    with tf.name_scope(\"2AB\"):    \n",
    "        e = tf.multiply(tf.multiply(2,a),c)\n",
    "         \n",
    "\n",
    "\n",
    "    with tf.name_scope(\"Asq_Bsq_2AB\"):\n",
    "        h = tf.add(g, e)\n",
    "    \n",
    "\n",
    "with tf.Session() as sess:\n",
    "    writer = tf.summary.FileWriter(\"/tmp/tboard/output1\", sess.graph)\n",
    "    print(sess.run(h))\n",
    "    writer.close()\t"
   ]
  },
  {
   "cell_type": "code",
   "execution_count": null,
   "metadata": {
    "collapsed": true
   },
   "outputs": [],
   "source": []
  }
 ],
 "metadata": {
  "kernelspec": {
   "display_name": "Python 3",
   "language": "python",
   "name": "python3"
  },
  "language_info": {
   "codemirror_mode": {
    "name": "ipython",
    "version": 3
   },
   "file_extension": ".py",
   "mimetype": "text/x-python",
   "name": "python",
   "nbconvert_exporter": "python",
   "pygments_lexer": "ipython3",
   "version": "3.6.1"
  }
 },
 "nbformat": 4,
 "nbformat_minor": 2
}
